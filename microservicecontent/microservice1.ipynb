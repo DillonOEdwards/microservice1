{
 "cells": [
  {
   "cell_type": "code",
   "execution_count": 36,
   "metadata": {},
   "outputs": [],
   "source": [
    "import zmq\n",
    "from time import sleep\n",
    "\n",
    "context = zmq.Context()\n",
    "\n",
    "socket = context.socket(zmq.REP)\n",
    "socket.bind('tcp://*:1866')\n",
    "\n",
    "message = ''\n",
    "keepgoing = True\n",
    "while keepgoing == True:\n",
    "    message = socket.recv().decode(\"utf-8\")\n",
    "    if len(message) > 0:\n",
    "        keepgoing = False\n",
    "        start_char = message[0]\n",
    "        \n",
    "        # Write the lines to a file\n",
    "        if start_char == \"0\":\n",
    "            file = open(\"microservicetextfile.txt\", \"w\")\n",
    "            if len(message) > 1:\n",
    "                file.writelines(message[1:])\n",
    "                file.close()\n",
    "                socket.send(b'Your result has been written to the file.')\n",
    "            else:\n",
    "                socket.send(b'No result was sent. Therefore, nothing was written to the file.')\n",
    "\n",
    "        # Read lines from the file and print to screen\n",
    "        if start_char == \"1\":\n",
    "            file = open(\"microservicetextfile.txt\", \"r+\")\n",
    "            my_content = file.readline()\n",
    "            file.close()\n",
    "            if len(my_content) > 0:\n",
    "                my_content = bytes(my_content, 'utf-8')\n",
    "                socket.send(my_content)\n",
    "            else:\n",
    "                socket.send(b\"You have nothing saved.\")\n",
    "\n",
    "        # Write a blank line to the file, overwriting the existing data\n",
    "        if start_char == \"2\":\n",
    "            file = open(\"microservicetextfile.txt\", \"w\")\n",
    "            file.writelines(\"\")\n",
    "            file.close()\n",
    "            socket.send(b'You have deleted your data.')\n",
    "        \n",
    "socket.close()"
   ]
  },
  {
   "cell_type": "code",
   "execution_count": null,
   "metadata": {},
   "outputs": [],
   "source": []
  },
  {
   "cell_type": "code",
   "execution_count": null,
   "metadata": {
    "collapsed": true
   },
   "outputs": [],
   "source": []
  }
 ],
 "metadata": {
  "kernelspec": {
   "display_name": "Python 3",
   "language": "python",
   "name": "python3"
  },
  "language_info": {
   "codemirror_mode": {
    "name": "ipython",
    "version": 3
   },
   "file_extension": ".py",
   "mimetype": "text/x-python",
   "name": "python",
   "nbconvert_exporter": "python",
   "pygments_lexer": "ipython3",
   "version": "3.6.1"
  }
 },
 "nbformat": 4,
 "nbformat_minor": 2
}
