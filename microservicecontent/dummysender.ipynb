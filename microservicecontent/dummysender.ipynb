{
 "cells": [
  {
   "cell_type": "code",
   "execution_count": 34,
   "metadata": {},
   "outputs": [
    {
     "name": "stdout",
     "output_type": "stream",
     "text": [
      "You have deleted your data.\n"
     ]
    }
   ],
   "source": [
    "import zmq\n",
    "from time import sleep\n",
    "\n",
    "context = zmq.Context()\n",
    "socket = context.socket(zmq.REQ)\n",
    "socket.connect('tcp://localhost:1866')\n",
    "\n",
    "message = b'2'\n",
    "\n",
    "keepgoing = True\n",
    "message_back = ''\n",
    "while keepgoing == True:\n",
    "    sleep(5)\n",
    "    socket.send(message)\n",
    "    sleep(1)\n",
    "    message_back = socket.recv().decode('utf-8')\n",
    "    if len(message_back) > 0:\n",
    "        keepgoing = False\n",
    "        print(message_back)\n",
    "    \n",
    "socket.close()"
   ]
  },
  {
   "cell_type": "code",
   "execution_count": null,
   "metadata": {
    "collapsed": true
   },
   "outputs": [],
   "source": []
  },
  {
   "cell_type": "code",
   "execution_count": null,
   "metadata": {
    "collapsed": true
   },
   "outputs": [],
   "source": []
  }
 ],
 "metadata": {
  "kernelspec": {
   "display_name": "Python 3",
   "language": "python",
   "name": "python3"
  },
  "language_info": {
   "codemirror_mode": {
    "name": "ipython",
    "version": 3
   },
   "file_extension": ".py",
   "mimetype": "text/x-python",
   "name": "python",
   "nbconvert_exporter": "python",
   "pygments_lexer": "ipython3",
   "version": "3.6.1"
  }
 },
 "nbformat": 4,
 "nbformat_minor": 2
}
